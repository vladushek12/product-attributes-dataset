{
 "cells": [
  {
   "cell_type": "markdown",
   "id": "37bcbac8",
   "metadata": {},
   "source": [
    "Код для генерации описаний для каждой категории"
   ]
  },
  {
   "cell_type": "code",
   "execution_count": 1,
   "id": "abab9505",
   "metadata": {},
   "outputs": [],
   "source": [
    "from langchain.prompts import (\n",
    "    ChatPromptTemplate,\n",
    "    SystemMessagePromptTemplate,\n",
    "    ChatPromptTemplate,\n",
    "    HumanMessagePromptTemplate\n",
    ")\n",
    "\n",
    "from pydantic import BaseModel, Field\n",
    "from langchain.output_parsers import PydanticOutputParser\n",
    "from langchain.output_parsers.json import SimpleJsonOutputParser\n",
    "\n",
    "from typing import List, Tuple\n",
    "\n",
    "import os\n",
    "import json\n",
    "import random"
   ]
  },
  {
   "cell_type": "code",
   "execution_count": 2,
   "id": "316e8a8b",
   "metadata": {},
   "outputs": [],
   "source": [
    "CATEGORIES_PATH = \".\\\\categories.txt\"\n",
    "\n",
    "with open(CATEGORIES_PATH, \"r\", encoding=\"UTF-8\") as file:\n",
    "    categories_array = file.read().splitlines()"
   ]
  },
  {
   "cell_type": "code",
   "execution_count": 4,
   "id": "cc791047",
   "metadata": {},
   "outputs": [],
   "source": [
    "def create_model_prompts(system_prompt: str,\n",
    "                         user_prompt: str) -> ChatPromptTemplate:\n",
    "    system_prompt = SystemMessagePromptTemplate.from_template(system_prompt)\n",
    "    user_prompt = HumanMessagePromptTemplate.from_template(user_prompt)\n",
    "    chat_prompt = ChatPromptTemplate.from_messages(\n",
    "        [system_prompt,\n",
    "         user_prompt]\n",
    "    )\n",
    "    return chat_prompt"
   ]
  },
  {
   "cell_type": "markdown",
   "id": "ac772bb2",
   "metadata": {},
   "source": [
    "# Model"
   ]
  },
  {
   "cell_type": "code",
   "execution_count": 3,
   "id": "daffb8ee",
   "metadata": {},
   "outputs": [],
   "source": [
    "from langchain_openai import ChatOpenAI\n",
    "\n",
    "T_PRO_CREDS = \"..\\\\..\\\\secrets\\\\t-pro.json\"\n",
    "\n",
    "with open(T_PRO_CREDS) as file:\n",
    "    model_params = json.load(file)\n",
    "\n",
    "llm = ChatOpenAI(**model_params, temperature=0)"
   ]
  },
  {
   "cell_type": "code",
   "execution_count": 5,
   "id": "74eb10f0",
   "metadata": {},
   "outputs": [],
   "source": [
    "SYSTEM_PROMPT = \"\"\"\n",
    "Для данной категории напиши описание из одного предложения.\n",
    "\"\"\".strip()\n",
    "\n",
    "USER_PROMPT = \"\"\"\n",
    "Категория: {problem_title}\n",
    "\"\"\".strip()\n",
    "\n",
    "prompt = create_model_prompts(SYSTEM_PROMPT, USER_PROMPT)"
   ]
  },
  {
   "cell_type": "code",
   "execution_count": 6,
   "id": "03c5634e",
   "metadata": {},
   "outputs": [],
   "source": [
    "batch = [\n",
    "    {\n",
    "        'problem_title': category\n",
    "    } for category in categories_array\n",
    "]"
   ]
  },
  {
   "cell_type": "code",
   "execution_count": 7,
   "id": "2b0306b8",
   "metadata": {},
   "outputs": [],
   "source": [
    "from langchain_core.output_parsers.string import StrOutputParser\n",
    "\n",
    "chain = prompt | llm | StrOutputParser()\n",
    "\n",
    "results = chain.batch(batch)"
   ]
  },
  {
   "cell_type": "code",
   "execution_count": 9,
   "id": "71076cab",
   "metadata": {},
   "outputs": [],
   "source": [
    "# for category, description in zip(categories_array, results):\n",
    "#     print(f\"{category}. {description}\")\n",
    "\n",
    "with open(\"categories_descriptions.txt\", \"w\", encoding=\"utf-8\") as file:\n",
    "    file.write(\"\\n\".join([f\"{category}. {description}\" for category, description in zip(categories_array, results)]))"
   ]
  }
 ],
 "metadata": {
  "kernelspec": {
   "display_name": ".venv",
   "language": "python",
   "name": "python3"
  },
  "language_info": {
   "codemirror_mode": {
    "name": "ipython",
    "version": 3
   },
   "file_extension": ".py",
   "mimetype": "text/x-python",
   "name": "python",
   "nbconvert_exporter": "python",
   "pygments_lexer": "ipython3",
   "version": "3.11.7"
  }
 },
 "nbformat": 4,
 "nbformat_minor": 5
}
