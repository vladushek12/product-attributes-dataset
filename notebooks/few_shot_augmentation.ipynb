{
 "cells": [
  {
   "cell_type": "code",
   "execution_count": 10,
   "metadata": {},
   "outputs": [],
   "source": [
    "from langchain_google_vertexai import ChatVertexAI\n",
    "from langchain.prompts import (\n",
    "    ChatPromptTemplate,\n",
    "    SystemMessagePromptTemplate,\n",
    "    ChatPromptTemplate,\n",
    "    HumanMessagePromptTemplate\n",
    ")\n",
    "\n",
    "import os\n",
    "import json\n",
    "import random"
   ]
  },
  {
   "cell_type": "code",
   "execution_count": 3,
   "metadata": {},
   "outputs": [
    {
     "data": {
      "text/plain": [
       "83755"
      ]
     },
     "execution_count": 3,
     "metadata": {},
     "output_type": "execute_result"
    }
   ],
   "source": [
    "PATH = \"..\\\\src\\\\data\\\\komus\\\\dataset.json\"\n",
    "\n",
    "with open(PATH, \"r\", encoding=\"UTF-8\") as file:\n",
    "    data = json.load(file)\n",
    "\n",
    "len(data)"
   ]
  },
  {
   "cell_type": "code",
   "execution_count": 6,
   "metadata": {},
   "outputs": [],
   "source": [
    "PROJECT_ID = 'axial-chemist-425510-p2'\n",
    "LOCATION = \"europe-west4\"\n",
    "\n",
    "# Укажите путь к вашему JSON-файлу с кредами\n",
    "SERVICE_ACCOUNT_FILE = \"../secrets/axial-chemist-425510-p2-b4eb1d622fbe.json\"\n",
    "os.environ['GOOGLE_APPLICATION_CREDENTIALS'] = SERVICE_ACCOUNT_FILE\n",
    "\n",
    "\n",
    "llm_params = {\n",
    "    'model_name': 'gemini-2.0-flash-001',\n",
    "    'project': PROJECT_ID,\n",
    "    'location': LOCATION\n",
    "}\n",
    "\n",
    "llm = ChatVertexAI(**llm_params)"
   ]
  },
  {
   "cell_type": "code",
   "execution_count": 7,
   "metadata": {},
   "outputs": [],
   "source": [
    "SYSTEM_PROMPT = \"\"\"\n",
    "Perform an augmentation of the product position based on the given examples in a similar style.\n",
    "Examples:\n",
    "{examples}\n",
    "\n",
    "The output should consist of the product item that was augmented.\n",
    "\n",
    "**Do not generate any text before and after result.**\n",
    "\"\"\".strip()\n",
    "\n",
    "USER_PROMPT = \"\"\"Give an answer to this position item {problem_title}\"\"\""
   ]
  },
  {
   "cell_type": "code",
   "execution_count": 8,
   "metadata": {},
   "outputs": [],
   "source": [
    "def create_model_prompts(system_prompt: str,\n",
    "                         user_prompt: str) -> ChatPromptTemplate:\n",
    "    system_prompt = SystemMessagePromptTemplate.from_template(system_prompt)\n",
    "    user_prompt = HumanMessagePromptTemplate.from_template(user_prompt)\n",
    "    chat_prompt = ChatPromptTemplate.from_messages(\n",
    "        [system_prompt,\n",
    "         user_prompt]\n",
    "    )\n",
    "    return chat_prompt\n",
    "\n",
    "\n",
    "prompt = create_model_prompts(SYSTEM_PROMPT, USER_PROMPT)\n"
   ]
  },
  {
   "cell_type": "code",
   "execution_count": 9,
   "metadata": {},
   "outputs": [
    {
     "name": "stdout",
     "output_type": "stream",
     "text": [
      "1)Product item: Крышка главного тормозного цилиндра для автомобиля Toyota (4723020140)\n",
      "Augmented item: 4723020140 КРЫШКА ГЛ.ТОРМ ЦИЛ Toyota\n",
      "2)Product item: Абразивный круг на липучке Sunmight P500, 15 отверстий? 1 шт.\n",
      "Augmented item: АБР./К.НА ЛИП. P500, 15 ОТВ. 1ЕД=1ШТ SUNMIGHT\n",
      "3)Product item: Окраска крышки бензобака\n",
      "Augmented item: КРЫШКА Б.Б ОКРАСКА\n",
      "4)Product item: Игристое вино розовое Villa Cialdini Brut Rose 2021, 0.75 л, 12%, Италия, Эмилия-Романия, Pr.I.V.I. s.r.l., брют \n",
      "Augmented item: Вино игристое Вилла Чальдини Розе 2021, 0,75 л, 12%, Италия, Эмилия-Романия, Пр.И.В.И. с.р.л., розовое, брют\n"
     ]
    }
   ],
   "source": [
    "examples = [\n",
    "    {\n",
    "        \"original_item\": \"4723020140 КРЫШКА ГЛ.ТОРМ ЦИЛ Toyota\",\n",
    "        \"clean_item\": \"Крышка главного тормозного цилиндра для автомобиля Toyota (4723020140)\"\n",
    "    },\n",
    "    {\n",
    "        \"original_item\": \"АБР./К.НА ЛИП. P500, 15 ОТВ. 1ЕД=1ШТ SUNMIGHT\",\n",
    "        \"clean_item\": \"Абразивный круг на липучке Sunmight P500, 15 отверстий? 1 шт.\"\n",
    "    },\n",
    "    {\n",
    "        \"original_item\": \"КРЫШКА Б.Б ОКРАСКА\",\n",
    "        \"clean_item\": \"Окраска крышки бензобака\"\n",
    "    },\n",
    "        {\n",
    "        \"original_item\": \"Вино игристое Вилла Чальдини Розе 2021, 0,75 л, 12%, Италия, Эмилия-Романия, Пр.И.В.И. с.р.л., розовое, брют\",\n",
    "        \"clean_item\": \"Игристое вино розовое Villa Cialdini Brut Rose 2021, 0.75 л, 12%, Италия, Эмилия-Романия, Pr.I.V.I. s.r.l., брют \"\n",
    "    },\n",
    "]\n",
    "\n",
    "examples_str = \"\\n\".join([f\"\"\"\n",
    "{i+1})Product item: {product[\"clean_item\"]}\n",
    "Augmented item: {product['original_item']}\n",
    "\"\"\".strip() for i, product in enumerate(examples)])\n",
    "print(examples_str)"
   ]
  },
  {
   "cell_type": "markdown",
   "metadata": {},
   "source": [
    "## Случайный выбор из подборки"
   ]
  },
  {
   "cell_type": "code",
   "execution_count": 11,
   "metadata": {},
   "outputs": [
    {
     "data": {
      "text/plain": [
       "[22009, 6842, 3491, 11635, 54735, 66683, 64314, 31085, 17752, 8034]"
      ]
     },
     "execution_count": 11,
     "metadata": {},
     "output_type": "execute_result"
    }
   ],
   "source": [
    "idx = random.choices(list(range(len(data))), k = 10)\n",
    "idx"
   ]
  },
  {
   "cell_type": "markdown",
   "metadata": {},
   "source": [
    "## Запуск модели"
   ]
  },
  {
   "cell_type": "code",
   "execution_count": 13,
   "metadata": {},
   "outputs": [
    {
     "name": "stdout",
     "output_type": "stream",
     "text": [
      "Картридж лазерный Хеrох 106R01277 черный оригинальный (двойная упаковка)\n",
      "Ответ: Картридж лазерный Xerox 106R01277, черный, оригинал (двойная упаковка)\n",
      "\n",
      "Картридж лазерный Хеrох 106R01277 черный оригинальный (двойная упаковка)\n",
      "Ответ: Картридж лазерный Xerox 106R01277, черный, оригинал, двойная упаковка\n",
      "\n",
      "Чай травяной Imperial Tea Collection 20 пакетиков (имбирь, анис, корица)\n",
      "Ответ: Чай травяной Империал Ти Коллекшн (имбирь, анис, корица) 20 пакетиков\n",
      "\n",
      "Чай травяной Imperial Tea Collection 20 пакетиков (имбирь, анис, корица)\n",
      "Ответ: Чай травяной Империал ТИ коллекшн 20 пак (Имбирь, Анис, Корица)\n",
      "\n",
      "Батарея для ИБП ExeGate HR 12-9 12 В 9 Ач (EP129860RUS)\n",
      "Ответ: БАТАРЕЯ ДЛЯ ИБП 12В 9АЧ EXEGATE HR 12-9\n",
      "\n",
      "Батарея для ИБП ExeGate HR 12-9 12 В 9 Ач (EP129860RUS)\n",
      "Ответ: БАТАРЕЯ ДЛЯ ИБП 12В 9АЧ EXEGATE HR 12-9 (EP129860RUS)\n",
      "\n",
      "Рабочая станция Avance 6МБН.6277 двухместная (венге/алюминий матовый, 1000х1435х750 мм)\n",
      "Ответ: РАБ.СТАНЦИЯ AVANCE 6МБН.6277 2-Х МЕСТН. (ВЕНГЕ/АЛЮМ.МАТ., 1000Х1435Х750 ММ)\n",
      "\n",
      "Рабочая станция Avance 6МБН.6277 двухместная (венге/алюминий матовый, 1000х1435х750 мм)\n",
      "Ответ: РАБОЧАЯ СТАНЦИЯ AVANCE 6МБН.6277 2-Х МЕСТНАЯ (ВЕНГЕ/АЛЮМИНИЙ МАТОВЫЙ, 1000Х1435Х750 ММ)\n",
      "\n",
      "Полукомбинезон рабочий летний мужской ПОЛ2020 л33-ПК со светоотражающим кантом серый (размер 64-66, рост 170-176)\n",
      "Ответ: П/К РАБ.ЛЕТ. МУЖ. ПОЛ2020 Л33-ПК С С/О КАНТОМ СЕРЫЙ (Р-Р 64-66, РОСТ 170-176)\n",
      "\n",
      "Полукомбинезон рабочий летний мужской ПОЛ2020 л33-ПК со светоотражающим кантом серый (размер 64-66, рост 170-176)\n",
      "Ответ: ПОЛУКОМБИНЕЗОН РАБОЧИЙ ЛЕТНИЙ МУЖСКОЙ ПОЛ2020 Л33-ПК С СВЕТООТРАЖАЮЩИМ КАНТОМ СЕРЫЙ (64-66, 170-176)\n",
      "\n",
      "Кондиционер для белья Synergetic Аромамагия 5 л\n",
      "Ответ: КОНДИЦИОНЕР Д/БЕЛЬЯ SYNERGETIC АРОМАМАГИЯ 5Л\n",
      "\n",
      "Кондиционер для белья Synergetic Аромамагия 5 л\n",
      "Ответ: КОНДИЦИОНЕР ДЛЯ БЕЛЬЯ SYNERGETIC АРОМАМАГИЯ 5Л\n",
      "Шлифмашина эксцентриковая Hanskonner HOS8135RC\n",
      "Ответ: ШЛИФМ. ЭКСЦЕНТРИКОВАЯ HOS8135RC HANSKONNER\n",
      "\n",
      "Шлифмашина эксцентриковая Hanskonner HOS8135RC\n",
      "Ответ: ШЛИФМ.ЭКСЦЕНТРИК HOS8135RC HANSKONNER\n",
      "Кулер для процессора Deepcool THETA 9 PWM 1700\n",
      "Ответ: КУЛЕР Deepcool THETA 9 PWM 1700\n",
      "\n",
      "Кулер для процессора Deepcool THETA 9 PWM 1700\n",
      "Ответ: Кулер Deepcool THETA 9 PWM 1700\n",
      "\n",
      "Швабра флаундер Vileda Professional УльтраСпид Про 40x10 см (4 МОПа, артикул производителя 166391)\n",
      "Ответ: ШВАБРА ФЛАУНДЕР УЛЬТРАСПИД ПРО 40Х10СМ (4 МОПА) VILEDA 166391\n",
      "\n",
      "Швабра флаундер Vileda Professional УльтраСпид Про 40x10 см (4 МОПа, артикул производителя 166391)\n",
      "Ответ: ШВАБРА ФЛАУНДЕР УЛЬТРАСПИД ПРО 40X10СМ (4 МОПА, АРТ. 166391) VILEDA\n",
      "\n",
      "Паста для очистки рук Pingo Чистая Звезда с абразивом 11 л (85010-0)\n",
      "Ответ: ПАСТА Д/ОЧИСТКИ РУК PINGO ЧИСТАЯ ЗВЕЗДА С АБРАЗИВОМ 11Л 85010-0\n",
      "\n",
      "Паста для очистки рук Pingo Чистая Звезда с абразивом 11 л (85010-0)\n",
      "Ответ: ПАСТА ДЛЯ РУК ПИНГО ЧИСТАЯ ЗВЕЗДА С АБРАЗИВОМ 11Л (85010-0)\n",
      "\n"
     ]
    }
   ],
   "source": [
    "similarity_chain = prompt | llm\n",
    "\n",
    "for id in idx:\n",
    "    for i in range(2):\n",
    "        product = data[id]\n",
    "\n",
    "        res = similarity_chain.invoke({\n",
    "            \"examples\": examples_str,\n",
    "            \"problem_title\": product[\"title\"],\n",
    "        })\n",
    "\n",
    "        print(product[\"title\"])\n",
    "        # print(json.dumps(product[\"attributes\"], ensure_ascii=False, indent=4))\n",
    "        print(f\"Ответ: {res.content}\")\n",
    "    "
   ]
  }
 ],
 "metadata": {
  "kernelspec": {
   "display_name": ".venv",
   "language": "python",
   "name": "python3"
  },
  "language_info": {
   "codemirror_mode": {
    "name": "ipython",
    "version": 3
   },
   "file_extension": ".py",
   "mimetype": "text/x-python",
   "name": "python",
   "nbconvert_exporter": "python",
   "pygments_lexer": "ipython3",
   "version": "3.11.7"
  }
 },
 "nbformat": 4,
 "nbformat_minor": 2
}
