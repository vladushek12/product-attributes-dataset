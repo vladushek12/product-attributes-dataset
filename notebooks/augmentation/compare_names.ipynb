{
 "cells": [
  {
   "cell_type": "markdown",
   "id": "f31f98a1",
   "metadata": {},
   "source": [
    "Примеры сравнений через эмбеддинги"
   ]
  },
  {
   "cell_type": "code",
   "execution_count": 6,
   "id": "dfd11eec",
   "metadata": {},
   "outputs": [],
   "source": [
    "import torch\n",
    "from transformers import AutoTokenizer, AutoModel"
   ]
  },
  {
   "cell_type": "code",
   "execution_count": 4,
   "id": "e063315e",
   "metadata": {},
   "outputs": [],
   "source": [
    "def pool(hidden_state, mask, pooling_method=\"mean\"):\n",
    "    if pooling_method == \"mean\":\n",
    "        s = torch.sum(hidden_state * mask.unsqueeze(-1).float(), dim=1)\n",
    "        d = mask.sum(axis=1, keepdim=True).float()\n",
    "        return s / d\n",
    "    elif pooling_method == \"cls\":\n",
    "        return hidden_state[:, 0]\n",
    "    \n",
    "def l2_normalize(x, dim=1, eps=1e-12):\n",
    "    norm = torch.linalg.norm(x, ord=2, dim=dim, keepdim=True)\n",
    "    return x / (norm + eps)"
   ]
  },
  {
   "cell_type": "code",
   "execution_count": 7,
   "id": "06dc0201",
   "metadata": {},
   "outputs": [],
   "source": [
    "# Загрузка модели\n",
    "tokenizer = AutoTokenizer.from_pretrained(\"sergeyzh/BERTA\")\n",
    "model = AutoModel.from_pretrained(\"sergeyzh/BERTA\")"
   ]
  },
  {
   "cell_type": "code",
   "execution_count": 8,
   "id": "54ff7d63",
   "metadata": {},
   "outputs": [],
   "source": [
    "prefix = \"categorize_entailment:\"\n",
    "\n",
    "# Пример строк для сравнения\n",
    "text1 = f\"{prefix} Бумага цветная Апплика двухсторонняя (А4, 16 листов, 8 цветов, офсетная)\"\n",
    "text2 = f\"{prefix} Бумага цветная Апплика двустор. А4 16 л. 8цв. офсетная\"\n",
    "\n",
    "# Токенизация\n",
    "tokenized = tokenizer([text1, text2], padding=True, truncation=True, return_tensors=\"pt\")"
   ]
  },
  {
   "cell_type": "code",
   "execution_count": 9,
   "id": "07aa96d2",
   "metadata": {},
   "outputs": [
    {
     "name": "stdout",
     "output_type": "stream",
     "text": [
      "Сходство между строками: 0.9458\n"
     ]
    }
   ],
   "source": [
    "# Получение эмбеддингов\n",
    "with torch.no_grad():\n",
    "    output = model(**tokenized)\n",
    "\n",
    "emb = pool(output.last_hidden_state, tokenized[\"attention_mask\"], pooling_method=\"mean\")\n",
    "emb = l2_normalize(emb, dim=1)\n",
    "\n",
    "# Косинусное сходство\n",
    "similarity = (emb[0] @ emb[1]).item()\n",
    "print(f\"Сходство между строками: {similarity:.4f}\")"
   ]
  },
  {
   "cell_type": "code",
   "execution_count": null,
   "id": "63b07627",
   "metadata": {},
   "outputs": [],
   "source": [
    "from sentence_transformers import SentenceTransformer\n",
    "\n"
   ]
  },
  {
   "cell_type": "code",
   "execution_count": 22,
   "id": "edebfb34",
   "metadata": {},
   "outputs": [],
   "source": [
    "list_a = [\n",
    "    \"Бумага цветная Апплика двухсторонняя (А4, 16 листов, 8 цветов, офсетная)\"\n",
    "]\n",
    "\n",
    "list_b = [\n",
    "    \"Бумага цветная Апплика двустор. А4 16 л. 8цв. офсетная\"\n",
    "]"
   ]
  },
  {
   "cell_type": "code",
   "execution_count": null,
   "id": "bf9434a2",
   "metadata": {},
   "outputs": [
    {
     "name": "stdout",
     "output_type": "stream",
     "text": [
      "Сходство между парой 0: 0.9585\n"
     ]
    }
   ],
   "source": [
    "sts_prefix = \"categorize_entailment:\"\n",
    "encode_kwargs = {\"normalize_embeddings\": True}\n",
    "if sts_prefix:\n",
    "    encode_kwargs[\"prompt\"] = sts_prefix\n",
    "\n",
    "# Добавляем префикс к каждой строке\n",
    "sentences_a = [sts_prefix + s for s in list_a]\n",
    "sentences_b = [sts_prefix + s for s in list_b]\n",
    "\n",
    "# Получаем эмбеддинги\n",
    "embeddings_a = model.encode(sentences_a, **encode_kwargs)\n",
    "embeddings_b = model.encode(sentences_b, **encode_kwargs)\n",
    "\n",
    "# Вычисляем косинусные сходства по парам\n",
    "similarities = (embeddings_a * embeddings_b).sum(axis=1)\n",
    "\n",
    "# Вывод\n",
    "for i, sim in enumerate(similarities):\n",
    "    print(f\"Сходство между парой {i}: {sim:.4f}\")"
   ]
  },
  {
   "cell_type": "code",
   "execution_count": 4,
   "id": "3f029941",
   "metadata": {},
   "outputs": [
    {
     "name": "stdout",
     "output_type": "stream",
     "text": [
      "Используется устройство: cuda\n"
     ]
    },
    {
     "name": "stderr",
     "output_type": "stream",
     "text": [
      "Default prompt name is set to 'Classification'. This prompt will be applied to all `encode()` calls, except if `encode()` is called with `prompt` or `prompt_name` parameters.\n"
     ]
    }
   ],
   "source": [
    "import torch\n",
    "from sentence_transformers import SentenceTransformer, util\n",
    "\n",
    "# Проверяем, доступен ли CUDA\n",
    "device = 'cuda' if torch.cuda.is_available() else 'cpu'\n",
    "print(f\"Используется устройство: {device}\")\n",
    "\n",
    "# Загрузка предобученной модели для получения эмбеддингов\n",
    "model = SentenceTransformer(\"sergeyzh/BERTA\").to(device)"
   ]
  },
  {
   "cell_type": "code",
   "execution_count": null,
   "id": "0096ea2d",
   "metadata": {},
   "outputs": [],
   "source": [
    "def find_similar_categories(product_name, categories, sts_prefix):\n",
    "    \"\"\"\n",
    "    Возвращает список категорий, семантическая близость которых к названию товара.\n",
    "    \n",
    "    :param product_name: str - название товарной позиции\n",
    "    :param categories: list[str] - список категорий\n",
    "    :param sts_prefix\n",
    "    :return: list[tuple(category, similarity)]\n",
    "    \"\"\"\n",
    "    encode_kwargs = {\"normalize_embeddings\": True}\n",
    "    if sts_prefix:\n",
    "        encode_kwargs[\"prompt\"] = sts_prefix\n",
    "\n",
    "    # Получаем эмбеддинги\n",
    "    product_embedding = model.encode(product_name, convert_to_tensor=True, **encode_kwargs)\n",
    "    category_embeddings = model.encode(categories, convert_to_tensor=True, **encode_kwargs)\n",
    "\n",
    "    # Вычисляем косинусное сходство\n",
    "    similarities = util.cos_sim(product_embedding, category_embeddings)[0]\n",
    "\n",
    "    # Фильтруем сортируем\n",
    "    results = [(categories[i], float(similarities[i])) for i in range(len(categories))]\n",
    "    results.sort(key=lambda x: x[1], reverse=True)\n",
    "\n",
    "    return results"
   ]
  },
  {
   "cell_type": "code",
   "execution_count": 12,
   "id": "a49a4644",
   "metadata": {},
   "outputs": [],
   "source": [
    "# Пример использования\n",
    "product_name = \"Набор кастрюль Лысьвенские эмали Urban flower эмалированная сталь 3 штуки (1.45 л, 2.9 л, 4.3 л)\"\n",
    "with open(\"..\\\\classify\\\\categories.txt\", encoding=\"utf-8\") as file:\n",
    "    categories = file.read().split(\"\\n\")\n"
   ]
  },
  {
   "cell_type": "code",
   "execution_count": 6,
   "id": "5b8174e7",
   "metadata": {},
   "outputs": [],
   "source": [
    "import json\n",
    "METRICS_CLASSIFY_DATASET_PATH = \"..\\\\classify\\\\correct_categories\\\\approved_categories.json\"\n",
    "\n",
    "metrics_data = []\n",
    "\n",
    "with open(METRICS_CLASSIFY_DATASET_PATH, \"r\", encoding=\"UTF-8\") as file:\n",
    "    for value in json.load(file).values():\n",
    "        metrics_data += value[\"data\"]\n"
   ]
  },
  {
   "cell_type": "markdown",
   "id": "ba38729f",
   "metadata": {},
   "source": [
    "Используем \"categorize:\""
   ]
  },
  {
   "cell_type": "code",
   "execution_count": 25,
   "id": "3f93da3e",
   "metadata": {},
   "outputs": [],
   "source": [
    "\n",
    "results_categorize = []\n",
    "for product in metrics_data:\n",
    "    results_categorize.append(find_similar_categories(product[\"title\"], categories, sts_prefix=\"categorize:\"))\n"
   ]
  },
  {
   "cell_type": "code",
   "execution_count": 30,
   "id": "6c196595",
   "metadata": {},
   "outputs": [
    {
     "data": {
      "text/plain": [
       "'Подставка для ноутбука/планшета Ugreen LP339 (40291_)'"
      ]
     },
     "execution_count": 30,
     "metadata": {},
     "output_type": "execute_result"
    }
   ],
   "source": [
    "metrics_data[0][\"title\"]"
   ]
  },
  {
   "cell_type": "code",
   "execution_count": 29,
   "id": "de75e363",
   "metadata": {},
   "outputs": [
    {
     "data": {
      "text/plain": [
       "[('Аксессуары для мобильных устройств', 0.4211483597755432),\n",
       " ('Компьютеры и периферийное оборудование', 0.3450010120868683),\n",
       " ('Оптические приборы', 0.32344427704811096),\n",
       " ('Техника бытовая электронная', 0.3074308931827545),\n",
       " ('Мебель', 0.30487924814224243),\n",
       " ('Спорттовары', 0.279451459646225),\n",
       " ('Продукция для улицы', 0.27621158957481384),\n",
       " ('Инструменты и оборудование', 0.2743482291698456),\n",
       " ('Продукция для защиты', 0.26875388622283936),\n",
       " ('Продукция для обслуживания и ремонта', 0.2663242518901825),\n",
       " ('Продукция упаковочная', 0.26621192693710327),\n",
       " ('Канцелярские товары', 0.26115211844444275),\n",
       " ('Продукция для офиса', 0.2589397132396698),\n",
       " ('Продукция для людей с ограниченными возможностями', 0.25654393434524536),\n",
       " ('Изделия из пластмасс', 0.25627756118774414),\n",
       " ('Оборудование для оборонной промышленности', 0.25625622272491455),\n",
       " ('Оборудование электрическое прочее', 0.2480703592300415),\n",
       " ('Напитки', 0.24486041069030762),\n",
       " ('Инструменты', 0.24045993387699127),\n",
       " ('Обувь', 0.24033093452453613),\n",
       " ('Товары для спорта', 0.23967593908309937),\n",
       " ('Автозапчасти', 0.23805364966392517),\n",
       " ('Продукция для пожаротушения', 0.2336585819721222),\n",
       " ('Продукция для торговли', 0.22845493257045746),\n",
       " ('Продукция для ресторанов и кафе', 0.2273382842540741),\n",
       " ('Продукция для пожарной безопасности', 0.22408536076545715),\n",
       " ('Изделия ножевые', 0.22382818162441254),\n",
       " ('Изделия из бумаги и картона', 0.2213979810476303),\n",
       " ('Продукция для магазинов', 0.2197691947221756),\n",
       " ('Товары для дома', 0.217075377702713),\n",
       " ('Игры и игрушки', 0.2163415402173996),\n",
       " ('Карты и атласы', 0.21610569953918457),\n",
       " ('Изделия ювелирные, бижутерия и подобные изделия', 0.21520306169986725),\n",
       " ('Продукция пожарной безопасности', 0.21314562857151031),\n",
       " ('Продукция банковская', 0.21279621124267578),\n",
       " ('Изделия резиновые', 0.2125718742609024),\n",
       " ('Изделия из дерева, пробки, соломки и материалов для плетения',\n",
       "  0.21153056621551514),\n",
       " ('Материалы электромонтажные', 0.2112809121608734),\n",
       " ('Инструменты музыкальные', 0.19705623388290405),\n",
       " ('Материалы растительные: растения живые; луковицы, клубнелуковицы и корневища; отводки и черенки; грибницы',\n",
       "  0.19630777835845947),\n",
       " ('Продукция полиграфических производств', 0.19623634219169617),\n",
       " ('Изделия из кожи', 0.19279196858406067),\n",
       " ('Средства автотранспортные', 0.19225570559501648),\n",
       " ('Продукция для промышленности', 0.18586482107639313),\n",
       " ('Стекло и изделия из стекла', 0.18383090198040009),\n",
       " ('Продукция минеральная неметаллическая прочая', 0.18334123492240906),\n",
       " ('Оружие и боеприпасы', 0.18030217289924622),\n",
       " ('Продукция для животных', 0.1796482354402542),\n",
       " ('Изделия текстильные прочие', 0.1784626543521881),\n",
       " ('Одежда', 0.1784307211637497),\n",
       " ('Услуги', 0.1778717190027237),\n",
       " ('Материалы для строительства и ремонта', 0.17343327403068542),\n",
       " ('Материалы лакокрасочные и аналогичные для нанесения покрытий',\n",
       "  0.16968107223510742),\n",
       " ('Продукция для сельского и лесного хозяйства', 0.1690085530281067),\n",
       " ('Продукты питания', 0.16737452149391174),\n",
       " ('Продукция искусства', 0.16449691355228424),\n",
       " ('Часы', 0.16298118233680725),\n",
       " ('Материалы для строительства', 0.1623823046684265),\n",
       " ('Металлоконструкции строительные', 0.1591460406780243),\n",
       " ('Изделия готовые, не включенные в другие группировки', 0.15544676780700684),\n",
       " ('Продукция металлургическая', 0.15466473996639252),\n",
       " ('Изделия металлические готовые прочие', 0.1523740291595459),\n",
       " ('Продукция металлическая', 0.14924456179141998),\n",
       " ('Недвижимость', 0.14598903059959412),\n",
       " ('Продукция металообрабатывающих производств', 0.14395174384117126),\n",
       " ('Организации', 0.14296172559261322),\n",
       " ('Мыло и средства моющие, средства чистящие и полирующие, средства парфюмерные и косметические',\n",
       "  0.13980942964553833),\n",
       " ('Культуры однолетние', 0.13769015669822693),\n",
       " ('Продукция метизов', 0.12690891325473785),\n",
       " ('Продукция коксовых печей', 0.12031982839107513),\n",
       " ('Продукция метизной промышленности', 0.1102101132273674),\n",
       " ('Препараты лекарственные и материалы, применяемые в медицинских целях',\n",
       "  0.10833586752414703),\n",
       " ('Продукция лесного хозяйства прочая', 0.08841186761856079),\n",
       " ('Продукты химические прочие', 0.07748094201087952),\n",
       " ('Продукция горнодобывающих производств, не включенная в другие группировки',\n",
       "  0.07597285509109497),\n",
       " ('Здания и работы по возведению зданий', 0.04577799141407013)]"
      ]
     },
     "execution_count": 29,
     "metadata": {},
     "output_type": "execute_result"
    }
   ],
   "source": [
    "results_categorize[0]"
   ]
  },
  {
   "cell_type": "code",
   "execution_count": 26,
   "id": "f5083e87",
   "metadata": {},
   "outputs": [
    {
     "name": "stdout",
     "output_type": "stream",
     "text": [
      "21.030741410488247\n",
      "68\n",
      "0\n",
      "447\n"
     ]
    }
   ],
   "source": [
    "threshold = 0.2\n",
    "counter = 0\n",
    "count_categories = []\n",
    "for product, matches in zip(metrics_data, results_categorize):\n",
    "    \n",
    "    match_categories = set([category.split(\".\")[0] for category, score in matches if score > threshold])\n",
    "    count_categories.append(len(match_categories))\n",
    "    if product[\"answer\"] in match_categories:\n",
    "        counter += 1\n",
    "    # else:\n",
    "    #     print(product[\"title\"])\n",
    "    #     print(*match_categories, sep=\"\\n\")\n",
    "    #     print()\n",
    "\n",
    "print(sum(count_categories) / len(count_categories))\n",
    "print(max(count_categories))\n",
    "print(min(count_categories))\n",
    "print(counter)"
   ]
  },
  {
   "cell_type": "markdown",
   "id": "e56c59d3",
   "metadata": {},
   "source": [
    "Используем \"categorize_entailment\""
   ]
  },
  {
   "cell_type": "code",
   "execution_count": 27,
   "id": "f7b021c2",
   "metadata": {},
   "outputs": [],
   "source": [
    "\n",
    "results_categorize_entailment = []\n",
    "for product in metrics_data:\n",
    "    results_categorize_entailment.append(find_similar_categories(product[\"title\"], categories, sts_prefix=\"categorize_entailment:\"))\n"
   ]
  },
  {
   "cell_type": "code",
   "execution_count": 28,
   "id": "9f339e44",
   "metadata": {},
   "outputs": [
    {
     "name": "stdout",
     "output_type": "stream",
     "text": [
      "67.39783001808318\n",
      "76\n",
      "8\n",
      "546\n"
     ]
    }
   ],
   "source": [
    "threshold = 0.2\n",
    "counter = 0\n",
    "count_categories = []\n",
    "for product, matches in zip(metrics_data, results_categorize_entailment):\n",
    "    \n",
    "    match_categories = set([category.split(\".\")[0] for category, score in matches if score > threshold])\n",
    "    count_categories.append(len(match_categories))\n",
    "    if product[\"answer\"] in match_categories:\n",
    "        counter += 1\n",
    "    # else:\n",
    "    #     print(product[\"title\"])\n",
    "    #     print(*match_categories, sep=\"\\n\")\n",
    "    #     print()\n",
    "\n",
    "print(sum(count_categories) / len(count_categories))\n",
    "print(max(count_categories))\n",
    "print(min(count_categories))\n",
    "print(counter)"
   ]
  },
  {
   "cell_type": "code",
   "execution_count": null,
   "id": "d4fa3f62",
   "metadata": {},
   "outputs": [],
   "source": []
  }
 ],
 "metadata": {
  "kernelspec": {
   "display_name": ".venv",
   "language": "python",
   "name": "python3"
  },
  "language_info": {
   "codemirror_mode": {
    "name": "ipython",
    "version": 3
   },
   "file_extension": ".py",
   "mimetype": "text/x-python",
   "name": "python",
   "nbconvert_exporter": "python",
   "pygments_lexer": "ipython3",
   "version": "3.11.7"
  }
 },
 "nbformat": 4,
 "nbformat_minor": 5
}
