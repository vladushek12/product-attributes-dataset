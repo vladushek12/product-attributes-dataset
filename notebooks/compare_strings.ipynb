{
 "cells": [
  {
   "cell_type": "code",
   "execution_count": 10,
   "metadata": {},
   "outputs": [],
   "source": [
    "from langchain_google_vertexai import ChatVertexAI\n",
    "from langchain.prompts import (\n",
    "    ChatPromptTemplate,\n",
    "    SystemMessagePromptTemplate,\n",
    "    ChatPromptTemplate,\n",
    "    HumanMessagePromptTemplate\n",
    ")\n",
    "\n",
    "import os\n",
    "import json\n",
    "import random\n",
    "\n",
    "from pydantic import BaseModel, Field\n",
    "from langchain.output_parsers import PydanticOutputParser\n",
    "\n",
    "from typing import List"
   ]
  },
  {
   "cell_type": "markdown",
   "metadata": {},
   "source": [
    "## T-PRO"
   ]
  },
  {
   "cell_type": "code",
   "execution_count": 2,
   "metadata": {},
   "outputs": [],
   "source": [
    "from langchain_openai import ChatOpenAI\n",
    "\n",
    "T_PRO_CREDS = \"../secrets/t-pro.json\"\n",
    "\n",
    "with open(T_PRO_CREDS) as file:\n",
    "    model_params = json.load(file)\n",
    "\n",
    "llm = ChatOpenAI(**model_params)"
   ]
  },
  {
   "cell_type": "markdown",
   "metadata": {},
   "source": [
    "# Utils"
   ]
  },
  {
   "cell_type": "code",
   "execution_count": 4,
   "metadata": {},
   "outputs": [],
   "source": [
    "def create_model_prompts(system_prompt: str,\n",
    "                         user_prompt: str) -> ChatPromptTemplate:\n",
    "    system_prompt = SystemMessagePromptTemplate.from_template(system_prompt)\n",
    "    user_prompt = HumanMessagePromptTemplate.from_template(user_prompt)\n",
    "    chat_prompt = ChatPromptTemplate.from_messages(\n",
    "        [system_prompt,\n",
    "         user_prompt]\n",
    "    )\n",
    "    return chat_prompt"
   ]
  },
  {
   "cell_type": "markdown",
   "metadata": {},
   "source": [
    "# Релизация"
   ]
  },
  {
   "cell_type": "markdown",
   "metadata": {},
   "source": [
    "## Модель для извлечения ответа."
   ]
  },
  {
   "cell_type": "code",
   "execution_count": 11,
   "metadata": {},
   "outputs": [],
   "source": [
    "class CompareListResponse(BaseModel):\n",
    "    lost_fragments: List[str] = Field(..., description=\"Фрагменты строки, которые были потеряны\")\n",
    "    added_fragments: List[str] = Field(..., description=\"Фрагменты, которые были добавлены в аугментированную строку\")\n",
    "\n",
    "parser = PydanticOutputParser(pydantic_object=CompareListResponse)"
   ]
  },
  {
   "cell_type": "markdown",
   "metadata": {},
   "source": [
    "## Промпт"
   ]
  },
  {
   "cell_type": "code",
   "execution_count": 32,
   "metadata": {},
   "outputs": [],
   "source": [
    "SYSTEM_PROMPT = \"\"\"\n",
    "Дана оригинальная строка str1 и аугментированная строка str2. Необходимо:  \n",
    "1. Найти фрагменты из str1, которые потерялись при аугментации (отсутствуют в str2).  \n",
    "2. Найти фрагменты из str2, которые добавились при аугментации (отсутствуют в str1).    \n",
    "\n",
    "Примеры:\n",
    "{examples}\n",
    "\n",
    "Правила:\n",
    "- Если фрагмент сокращен при аугментации, то он не потерян.\n",
    "\n",
    "{format_instructions}\n",
    "\"\"\".strip()\n",
    "\n",
    "USER_PROMPT = \"\"\"\n",
    "Оригинальная строка: {original_string}\n",
    "Аугментированная строка: {augmented_string}\n",
    "\n",
    "Сравни две эти строки.\n",
    "\"\"\"\n",
    "\n",
    "prompt = create_model_prompts(SYSTEM_PROMPT, USER_PROMPT)"
   ]
  },
  {
   "cell_type": "markdown",
   "metadata": {},
   "source": [
    "## Примеры"
   ]
  },
  {
   "cell_type": "code",
   "execution_count": 36,
   "metadata": {},
   "outputs": [
    {
     "name": "stdout",
     "output_type": "stream",
     "text": [
      "1)\n",
      "Оригинальная строка: Батарея ExeGate HR 12-9 12 Вольт 9 Ач (EP129860RUS)\n",
      "Аугментированная строка: БАТАРЕЯ ДЛЯ ИБП EXEGATE HR 12-9, 12В\n",
      "Ответ: {\"lost_fragments\": [\"9 Ач\", \"(EP129860RUS)\"], \"added_fragments\": [\"ДЛЯ ИБП\"]}\n",
      "2)\n",
      "Оригинальная строка: Игристое вино розовое Villa Cialdini Brut Rose 2021, 0.75 л, 12%, Италия, Эмилия-Романия, Pr.I.V.I. s.r.l., брют\n",
      "Аугментированная строка: Вино игристое Вилла Чальдини Розе 2021, 0,75 л, 12%, Италия, Эмилия-Романия, Пр.И.В.И. с.р.л., розовое, брют\n",
      "Ответ: {\"lost_fragments\": [], \"added_fragments\": []}\n",
      "3)\n",
      "Оригинальная строка: Поддон деревянный, грузоподъемность 1500 кг, 1 сорт, (1200 x 800 мм)\n",
      "Аугментированная строка: Поддон деревянный 1500 кг БУ 1200х800мм\n",
      "Ответ: {\"lost_fragments\": [\"грузоподъемность\", \"1 сорт\"], \"added_fragments\": [\"БУ\"]}\n",
      "4)\n",
      "Оригинальная строка: Картридж лазерный Хеrох 106R01277 оригинальный (двойная упаковка)\n",
      "Аугментированная строка: Картридж лазерный HEROCH 106R01277 черный ориг. ДУ\n",
      "Ответ: {\"lost_fragments\": [\"Хеrох\"], \"added_fragments\": [\"HEROCH\", \"черный\"]}\n"
     ]
    }
   ],
   "source": [
    "examples = [\n",
    "    {\n",
    "        \"original_string\": \"Батарея ExeGate HR 12-9 12 Вольт 9 Ач (EP129860RUS)\",\n",
    "        \"augmented_string\": \"БАТАРЕЯ ДЛЯ ИБП EXEGATE HR 12-9, 12В\",\n",
    "        \"lost\": [\"9 Ач\", \"(EP129860RUS)\"],\n",
    "        \"added\": [\"ДЛЯ ИБП\"]\n",
    "    },\n",
    "    {\n",
    "        \"original_string\": \"Игристое вино розовое Villa Cialdini Brut Rose 2021, 0.75 л, 12%, Италия, Эмилия-Романия, Pr.I.V.I. s.r.l., брют\",\n",
    "        \"augmented_string\": \"Вино игристое Вилла Чальдини Розе 2021, 0,75 л, 12%, Италия, Эмилия-Романия, Пр.И.В.И. с.р.л., розовое, брют\",\n",
    "        \"lost\": [],\n",
    "        \"added\": []\n",
    "    },\n",
    "    {\n",
    "        \"original_string\": \"Поддон деревянный, грузоподъемность 1500 кг, 1 сорт, (1200 x 800 мм)\",\n",
    "        \"augmented_string\": \"Поддон деревянный 1500 кг БУ 1200х800мм\",\n",
    "        \"lost\": [\"грузоподъемность\", \"1 сорт\"],\n",
    "        \"added\": [\"БУ\"]\n",
    "    },\n",
    "    {\n",
    "        \"original_string\": \"Картридж лазерный Хеrох 106R01277 оригинальный (двойная упаковка)\",\n",
    "        \"augmented_string\": \"Картридж лазерный HEROCH 106R01277 черный ориг. ДУ\",\n",
    "        \"lost\": [\"Хеrох\"],\n",
    "        \"added\": [\"HEROCH\", \"черный\"]\n",
    "    }\n",
    "]\n",
    "\n",
    "examples_str = \"\\n\".join([f\"\"\"\n",
    "{i+1})\n",
    "Оригинальная строка: {example[\"original_string\"]}\n",
    "Аугментированная строка: {example[\"augmented_string\"]}\n",
    "Ответ: {json.dumps({\n",
    "    \"lost_fragments\": example[\"lost\"],\n",
    "    \"added_fragments\": example[\"added\"]\n",
    "}, ensure_ascii=False)}\n",
    "\"\"\".strip() for i, example in enumerate(examples)])\n",
    "print(examples_str)"
   ]
  },
  {
   "cell_type": "markdown",
   "metadata": {},
   "source": [
    "# Использование"
   ]
  },
  {
   "cell_type": "code",
   "execution_count": 37,
   "metadata": {},
   "outputs": [],
   "source": [
    "compare_chain = prompt | llm"
   ]
  },
  {
   "cell_type": "code",
   "execution_count": 39,
   "metadata": {},
   "outputs": [
    {
     "name": "stdout",
     "output_type": "stream",
     "text": [
      "Для сравнения строк, нужно определить утраченные и добавленные фрагменты с учетом правил:\n",
      "\n",
      "1. **Оригинальная строка**: \"Чай травяной Imperial Tea Collection 20 пакетиков (имбирь, анис, корица)\"\n",
      "2. **Аугментированная строка**: \"Чай травяной IMPERIAL TEA COLLECTION 20П имбирь, анис, корица\"\n",
      "\n",
      "### Утраченные фрагменты:\n",
      "- \"пакетиков\" (заменено на \"20П\", что считается сокращением, а не потерей)\n",
      "- \"(имбирь, анис, корица)\" (добавлены без скобок, считается фрагментом, который изменился, но не потерян, так как содержание не было удалено)\n",
      "\n",
      "Таким образом, фактически утраченных фрагментов нет, поскольку сокращение \"20 пакетиков\" → \"20П\" и изменение формата записи ингредиентов не считаются потерей содержания.\n",
      "\n",
      "### Добавленные фрагменты:\n",
      "- \"IMPERIAL TEA COLLECTION\" в верхнем регистре. Однако, если считать, что это просто изменение регистра, то данный фрагмент не считается добавленным.\n",
      "- Нет новых добавленных фрагментов, поскольку все остальные элементы присутствуют в оригинальной строке.\n",
      "\n",
      "Таким образом, окончательный результат будет следующий:\n",
      "\n",
      "```json\n",
      "{\n",
      "  \"lost_fragments\": [],\n",
      "  \"added_fragments\": []\n",
      "}\n",
      "```\n",
      "\n",
      "Если учитывать, что игнорируем только явное сокращение, а не изменение регистра, то в ответ можно включить:\n",
      "```json\n",
      "{\n",
      "  \"lost_fragments\": [\"пакетиков\"],\n",
      "  \"added_fragments\": [\"20П\"]\n",
      "}\n",
      "```\n",
      "Однако, в данном случае \"20П\" можно рассматривать как вариант \"20 пакетиков\", так что теряется только слово \"пакетиков\". Ингредиенты также не считаются добавленными, так как они уже есть в оригинальной строке.\n"
     ]
    }
   ],
   "source": [
    "original_item = \"Чай травяной Imperial Tea Collection 20 пакетиков (имбирь, анис, корица)\"\n",
    "augmented_item = \"Чай травяной IMPERIAL TEA COLLECTION 20П имбирь, анис, корица\"\n",
    "\n",
    "print(compare_chain.invoke({\n",
    "    \"examples\": examples_str,\n",
    "    \"format_instructions\": parser.get_format_instructions(),\n",
    "    \"original_string\": original_item,\n",
    "    \"augmented_string\": augmented_item\n",
    "}).content)"
   ]
  }
 ],
 "metadata": {
  "kernelspec": {
   "display_name": ".venv",
   "language": "python",
   "name": "python3"
  },
  "language_info": {
   "codemirror_mode": {
    "name": "ipython",
    "version": 3
   },
   "file_extension": ".py",
   "mimetype": "text/x-python",
   "name": "python",
   "nbconvert_exporter": "python",
   "pygments_lexer": "ipython3",
   "version": "3.11.7"
  }
 },
 "nbformat": 4,
 "nbformat_minor": 2
}
