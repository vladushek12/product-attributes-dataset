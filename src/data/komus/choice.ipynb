{
 "cells": [
  {
   "cell_type": "code",
   "execution_count": 3,
   "metadata": {},
   "outputs": [],
   "source": [
    "import glob\n",
    "from pathlib import Path\n",
    "import numpy as np\n",
    "import pandas as pd\n",
    "import plotly.express as px\n",
    "import json\n",
    "import random\n",
    "import re\n",
    "from collections import Counter"
   ]
  },
  {
   "cell_type": "code",
   "execution_count": 2,
   "metadata": {},
   "outputs": [],
   "source": [
    "json_filenames = set(filename for filename in glob.glob(\"cleaned\\*.json\"))\n",
    "json_temp_files = set(filename for filename in glob.glob(\"cleaned\\*_temp.json\"))\n",
    "\n",
    "json_filenames -= json_temp_files"
   ]
  },
  {
   "cell_type": "code",
   "execution_count": 3,
   "metadata": {},
   "outputs": [],
   "source": [
    "def extract_last_digits_from_url(url):\n",
    "  \"\"\"\n",
    "  Извлекает последние цифры из URL-адреса, используя регулярное выражение.\n",
    "\n",
    "  Аргументы:\n",
    "    url: URL-адрес в виде строки.\n",
    "\n",
    "  Возвращает:\n",
    "    Строка, содержащая последние цифры из URL-адреса, или None, если цифры не найдены.\n",
    "  \"\"\"\n",
    "  match = re.search(r'/(\\d+)/?$', url)\n",
    "  if match:\n",
    "    return int(match.group(1))\n",
    "  else:\n",
    "    return None"
   ]
  },
  {
   "cell_type": "code",
   "execution_count": 4,
   "metadata": {},
   "outputs": [],
   "source": [
    "data = {}\n",
    "\n",
    "for filename in json_filenames:\n",
    "    with open(filename, \"r\", encoding=\"utf-8\") as file:\n",
    "        category_data = json.load(file)\n",
    "\n",
    "    if len(category_data[\"products\"]) > 15:\n",
    "        data[category_data[\"category_name\"]] = category_data[\"products\"]"
   ]
  },
  {
   "cell_type": "code",
   "execution_count": null,
   "metadata": {},
   "outputs": [],
   "source": [
    "dict_products = {}\n",
    "arr_exists = []\n",
    "\n",
    "for filename in json_filenames:\n",
    "    with open(filename, \"r\", encoding=\"utf-8\") as file:\n",
    "        category_data = json.load(file)\n",
    "    \n",
    "    # print(category_data[\"category_name\"])\n",
    "\n",
    "    for product in category_data[\"products\"]:\n",
    "        product[\"category\"] = [category_data[\"category_name\"]]\n",
    "        # print(product[\"link\"])\n",
    "        digits = extract_last_digits_from_url(product[\"link\"])\n",
    "\n",
    "        if digits not in dict_products:\n",
    "            dict_products[digits] = product\n",
    "        else:\n",
    "            dict_products[digits][\"category\"] = list(set(dict_products[digits][\"category\"] + [category_data[\"category_name\"]]))\n",
    "            # if len(dict_products[digits][\"category\"]) > 1:\n",
    "            #     print(dict_products[digits][\"title\"], dict_products[digits][\"category\"])\n",
    "            # compare_products(dict_products[digits], product)       "
   ]
  },
  {
   "cell_type": "code",
   "execution_count": null,
   "metadata": {},
   "outputs": [],
   "source": [
    "s = set()\n",
    "\n",
    "while len(s)!= 100:\n",
    "    s = set()\n",
    "    random_choices = {}\n",
    "    for category in random.choices(list(data.keys()), k = 20):\n",
    "        if category not in random_choices:\n",
    "            random_choices[category] = []\n",
    "\n",
    "        for product in random.choices(data[category], k = 5 ):\n",
    "            random_choices[category].append(extract_last_digits_from_url(product[\"link\"]))\n",
    "\n",
    "    for category in random_choices:\n",
    "        s.update(random_choices[category])\n",
    "    \n",
    "len(s)\n",
    "\n",
    "res = [dict_products[id] for id in s]\n",
    "len(res)\n",
    "\n",
    "products = res"
   ]
  },
  {
   "cell_type": "code",
   "execution_count": null,
   "metadata": {},
   "outputs": [
    {
     "data": {
      "text/plain": [
       "Counter({'Школьные тетради (12-24 листов)': 5,\n",
       "         'Школьные блокноты и тетради': 5,\n",
       "         'Запасные части (ЗИП) для принтеров': 5,\n",
       "         'Кулеры для процессора': 5,\n",
       "         'Элементы бенч-систем': 5,\n",
       "         'Папки-планшеты': 5,\n",
       "         'Папки-конверты': 5,\n",
       "         'Ручные уровни и угольники': 5,\n",
       "         'Пуфы': 5,\n",
       "         'Ручки гелевые': 5,\n",
       "         'Ручки': 5,\n",
       "         'Настольные подставки и наборы': 5,\n",
       "         'Ламинаторы': 5,\n",
       "         'Офисные защитные экраны на струбцинах': 5,\n",
       "         'Рабочая непромокаемая спецодежда': 5,\n",
       "         'Шкафы для одежды': 5,\n",
       "         'Наборы посуды для приготовления': 5,\n",
       "         'Кастрюли, сотейники, котлы, мантоварки': 5,\n",
       "         'Цветные карандаши, фломастеры': 5,\n",
       "         'Карандаши цветные': 5,\n",
       "         'Профессиональные акустические системы': 5,\n",
       "         '3D принтеры, сканеры и расходные материалы': 5,\n",
       "         'Магнитно-маркерные доски': 5,\n",
       "         'Стеновые панели для кухни': 5,\n",
       "         'Тетради и блокноты': 4,\n",
       "         'Подставки для ручек': 4,\n",
       "         'Канцелярские наборы и подставки': 4,\n",
       "         'Пуфы и бескаркасная мебель': 3,\n",
       "         'Конференц - связь': 3,\n",
       "         'Расходные материалы для 3D принтеров': 3,\n",
       "         'Кухонные гарнитуры': 2,\n",
       "         'Рабочая летняя спецодежда': 1,\n",
       "         'Детям': 1,\n",
       "         'Канцелярия': 1})"
      ]
     },
     "execution_count": 5,
     "metadata": {},
     "output_type": "execute_result"
    }
   ],
   "source": [
    "# Убираем размерности в конец строки\n",
    "for product in products:\n",
    "    old_attributes = []\n",
    "    new_attributes = {}\n",
    "\n",
    "    for attribute, value in product[\"attributes\"].items():\n",
    "        if \", \" in attribute:\n",
    "            arr = attribute.split(', ')\n",
    "\n",
    "            new_attribute = arr[0]\n",
    "            dims = arr[1:]\n",
    "\n",
    "            value = f'{value} {\", \".join(dims)}'\n",
    "            \n",
    "            new_attributes[new_attribute] = value\n",
    "            old_attributes.append(attribute)\n",
    "\n",
    "    \n",
    "    product[\"attributes\"].update(new_attributes)\n",
    "\n",
    "    for old_attribute in old_attributes:\n",
    "        product['attributes'].pop(old_attribute, None)\n",
    "\n",
    "with open(\"choice.json\", \"w\", encoding=\"utf-8\") as file:\n",
    "    json.dump(products, file, ensure_ascii=False)"
   ]
  },
  {
   "cell_type": "code",
   "execution_count": 7,
   "metadata": {},
   "outputs": [],
   "source": [
    "# Загрузка готового датасета\n",
    "with open(\"choice.json\", \"r\", encoding=\"utf-8\") as file:\n",
    "    products = json.load(file)"
   ]
  },
  {
   "cell_type": "code",
   "execution_count": 8,
   "metadata": {},
   "outputs": [
    {
     "data": {
      "text/plain": [
       "Counter({'Школьные тетради (12-24 листов)': 5,\n",
       "         'Школьные блокноты и тетради': 5,\n",
       "         'Запасные части (ЗИП) для принтеров': 5,\n",
       "         'Кулеры для процессора': 5,\n",
       "         'Элементы бенч-систем': 5,\n",
       "         'Папки-планшеты': 5,\n",
       "         'Папки-конверты': 5,\n",
       "         'Ручные уровни и угольники': 5,\n",
       "         'Пуфы': 5,\n",
       "         'Ручки гелевые': 5,\n",
       "         'Ручки': 5,\n",
       "         'Настольные подставки и наборы': 5,\n",
       "         'Ламинаторы': 5,\n",
       "         'Офисные защитные экраны на струбцинах': 5,\n",
       "         'Рабочая непромокаемая спецодежда': 5,\n",
       "         'Шкафы для одежды': 5,\n",
       "         'Наборы посуды для приготовления': 5,\n",
       "         'Кастрюли, сотейники, котлы, мантоварки': 5,\n",
       "         'Цветные карандаши, фломастеры': 5,\n",
       "         'Карандаши цветные': 5,\n",
       "         'Профессиональные акустические системы': 5,\n",
       "         '3D принтеры, сканеры и расходные материалы': 5,\n",
       "         'Магнитно-маркерные доски': 5,\n",
       "         'Стеновые панели для кухни': 5,\n",
       "         'Тетради и блокноты': 4,\n",
       "         'Подставки для ручек': 4,\n",
       "         'Канцелярские наборы и подставки': 4,\n",
       "         'Пуфы и бескаркасная мебель': 3,\n",
       "         'Конференц - связь': 3,\n",
       "         'Расходные материалы для 3D принтеров': 3,\n",
       "         'Кухонные гарнитуры': 2,\n",
       "         'Рабочая летняя спецодежда': 1,\n",
       "         'Детям': 1,\n",
       "         'Канцелярия': 1})"
      ]
     },
     "execution_count": 8,
     "metadata": {},
     "output_type": "execute_result"
    }
   ],
   "source": [
    "c = Counter()\n",
    "\n",
    "for product in products:\n",
    "    c.update(product[\"category\"])\n",
    "c"
   ]
  },
  {
   "cell_type": "code",
   "execution_count": 6,
   "metadata": {},
   "outputs": [
    {
     "data": {
      "application/vnd.plotly.v1+json": {
       "config": {
        "plotlyServerURL": "https://plot.ly"
       },
       "data": [
        {
         "hovertemplate": "Атрибут=%{x}<br>Количество=%{marker.color}<extra></extra>",
         "legendgroup": "",
         "marker": {
          "color": {
           "bdata": "BQUFBQQFBQUFAwUFBQQFBAUFBQUFBQUFBQMFAQMBAQUFAg==",
           "dtype": "i1"
          },
          "coloraxis": "coloraxis",
          "pattern": {
           "shape": ""
          }
         },
         "name": "",
         "orientation": "v",
         "showlegend": false,
         "text": {
          "bdata": "AAAAAAAAFEAAAAAAAAAUQAAAAAAAABRAAAAAAAAAFEAAAAAAAAAQQAAAAAAAABRAAAAAAAAAFEAAAAAAAAAUQAAAAAAAABRAAAAAAAAACEAAAAAAAAAUQAAAAAAAABRAAAAAAAAAFEAAAAAAAAAQQAAAAAAAABRAAAAAAAAAEEAAAAAAAAAUQAAAAAAAABRAAAAAAAAAFEAAAAAAAAAUQAAAAAAAABRAAAAAAAAAFEAAAAAAAAAUQAAAAAAAABRAAAAAAAAAFEAAAAAAAAAIQAAAAAAAABRAAAAAAAAA8D8AAAAAAAAIQAAAAAAAAPA/AAAAAAAA8D8AAAAAAAAUQAAAAAAAABRAAAAAAAAAAEA=",
          "dtype": "f8"
         },
         "textposition": "auto",
         "texttemplate": "%{text:.2s}",
         "type": "bar",
         "x": [
          "Школьные тетради (12-24 листов)",
          "Школьные блокноты и тетради",
          "Запасные части (ЗИП) для принтеров",
          "Кулеры для процессора",
          "Тетради и блокноты",
          "Элементы бенч-систем",
          "Папки-планшеты",
          "Папки-конверты",
          "Ручные уровни и угольники",
          "Пуфы и бескаркасная мебель",
          "Пуфы",
          "Ручки гелевые",
          "Ручки",
          "Подставки для ручек",
          "Настольные подставки и наборы",
          "Канцелярские наборы и подставки",
          "Ламинаторы",
          "Офисные защитные экраны на струбцинах",
          "Рабочая непромокаемая спецодежда",
          "Шкафы для одежды",
          "Наборы посуды для приготовления",
          "Кастрюли, сотейники, котлы, мантоварки",
          "Цветные карандаши, фломастеры",
          "Карандаши цветные",
          "Профессиональные акустические системы",
          "Конференц - связь",
          "3D принтеры, сканеры и расходные материалы",
          "Рабочая летняя спецодежда",
          "Расходные материалы для 3D принтеров",
          "Детям",
          "Канцелярия",
          "Магнитно-маркерные доски",
          "Стеновые панели для кухни",
          "Кухонные гарнитуры"
         ],
         "xaxis": "x",
         "y": {
          "bdata": "BQUFBQQFBQUFAwUFBQQFBAUFBQUFBQUFBQMFAQMBAQUFAg==",
          "dtype": "i1"
         },
         "yaxis": "y"
        }
       ],
       "layout": {
        "barmode": "relative",
        "coloraxis": {
         "colorbar": {
          "title": {
           "text": "Количество"
          }
         },
         "colorscale": [
          [
           0,
           "#0d0887"
          ],
          [
           0.1111111111111111,
           "#46039f"
          ],
          [
           0.2222222222222222,
           "#7201a8"
          ],
          [
           0.3333333333333333,
           "#9c179e"
          ],
          [
           0.4444444444444444,
           "#bd3786"
          ],
          [
           0.5555555555555556,
           "#d8576b"
          ],
          [
           0.6666666666666666,
           "#ed7953"
          ],
          [
           0.7777777777777778,
           "#fb9f3a"
          ],
          [
           0.8888888888888888,
           "#fdca26"
          ],
          [
           1,
           "#f0f921"
          ]
         ]
        },
        "legend": {
         "tracegroupgap": 0
        },
        "showlegend": false,
        "template": {
         "data": {
          "bar": [
           {
            "error_x": {
             "color": "#2a3f5f"
            },
            "error_y": {
             "color": "#2a3f5f"
            },
            "marker": {
             "line": {
              "color": "#E5ECF6",
              "width": 0.5
             },
             "pattern": {
              "fillmode": "overlay",
              "size": 10,
              "solidity": 0.2
             }
            },
            "type": "bar"
           }
          ],
          "barpolar": [
           {
            "marker": {
             "line": {
              "color": "#E5ECF6",
              "width": 0.5
             },
             "pattern": {
              "fillmode": "overlay",
              "size": 10,
              "solidity": 0.2
             }
            },
            "type": "barpolar"
           }
          ],
          "carpet": [
           {
            "aaxis": {
             "endlinecolor": "#2a3f5f",
             "gridcolor": "white",
             "linecolor": "white",
             "minorgridcolor": "white",
             "startlinecolor": "#2a3f5f"
            },
            "baxis": {
             "endlinecolor": "#2a3f5f",
             "gridcolor": "white",
             "linecolor": "white",
             "minorgridcolor": "white",
             "startlinecolor": "#2a3f5f"
            },
            "type": "carpet"
           }
          ],
          "choropleth": [
           {
            "colorbar": {
             "outlinewidth": 0,
             "ticks": ""
            },
            "type": "choropleth"
           }
          ],
          "contour": [
           {
            "colorbar": {
             "outlinewidth": 0,
             "ticks": ""
            },
            "colorscale": [
             [
              0,
              "#0d0887"
             ],
             [
              0.1111111111111111,
              "#46039f"
             ],
             [
              0.2222222222222222,
              "#7201a8"
             ],
             [
              0.3333333333333333,
              "#9c179e"
             ],
             [
              0.4444444444444444,
              "#bd3786"
             ],
             [
              0.5555555555555556,
              "#d8576b"
             ],
             [
              0.6666666666666666,
              "#ed7953"
             ],
             [
              0.7777777777777778,
              "#fb9f3a"
             ],
             [
              0.8888888888888888,
              "#fdca26"
             ],
             [
              1,
              "#f0f921"
             ]
            ],
            "type": "contour"
           }
          ],
          "contourcarpet": [
           {
            "colorbar": {
             "outlinewidth": 0,
             "ticks": ""
            },
            "type": "contourcarpet"
           }
          ],
          "heatmap": [
           {
            "colorbar": {
             "outlinewidth": 0,
             "ticks": ""
            },
            "colorscale": [
             [
              0,
              "#0d0887"
             ],
             [
              0.1111111111111111,
              "#46039f"
             ],
             [
              0.2222222222222222,
              "#7201a8"
             ],
             [
              0.3333333333333333,
              "#9c179e"
             ],
             [
              0.4444444444444444,
              "#bd3786"
             ],
             [
              0.5555555555555556,
              "#d8576b"
             ],
             [
              0.6666666666666666,
              "#ed7953"
             ],
             [
              0.7777777777777778,
              "#fb9f3a"
             ],
             [
              0.8888888888888888,
              "#fdca26"
             ],
             [
              1,
              "#f0f921"
             ]
            ],
            "type": "heatmap"
           }
          ],
          "histogram": [
           {
            "marker": {
             "pattern": {
              "fillmode": "overlay",
              "size": 10,
              "solidity": 0.2
             }
            },
            "type": "histogram"
           }
          ],
          "histogram2d": [
           {
            "colorbar": {
             "outlinewidth": 0,
             "ticks": ""
            },
            "colorscale": [
             [
              0,
              "#0d0887"
             ],
             [
              0.1111111111111111,
              "#46039f"
             ],
             [
              0.2222222222222222,
              "#7201a8"
             ],
             [
              0.3333333333333333,
              "#9c179e"
             ],
             [
              0.4444444444444444,
              "#bd3786"
             ],
             [
              0.5555555555555556,
              "#d8576b"
             ],
             [
              0.6666666666666666,
              "#ed7953"
             ],
             [
              0.7777777777777778,
              "#fb9f3a"
             ],
             [
              0.8888888888888888,
              "#fdca26"
             ],
             [
              1,
              "#f0f921"
             ]
            ],
            "type": "histogram2d"
           }
          ],
          "histogram2dcontour": [
           {
            "colorbar": {
             "outlinewidth": 0,
             "ticks": ""
            },
            "colorscale": [
             [
              0,
              "#0d0887"
             ],
             [
              0.1111111111111111,
              "#46039f"
             ],
             [
              0.2222222222222222,
              "#7201a8"
             ],
             [
              0.3333333333333333,
              "#9c179e"
             ],
             [
              0.4444444444444444,
              "#bd3786"
             ],
             [
              0.5555555555555556,
              "#d8576b"
             ],
             [
              0.6666666666666666,
              "#ed7953"
             ],
             [
              0.7777777777777778,
              "#fb9f3a"
             ],
             [
              0.8888888888888888,
              "#fdca26"
             ],
             [
              1,
              "#f0f921"
             ]
            ],
            "type": "histogram2dcontour"
           }
          ],
          "mesh3d": [
           {
            "colorbar": {
             "outlinewidth": 0,
             "ticks": ""
            },
            "type": "mesh3d"
           }
          ],
          "parcoords": [
           {
            "line": {
             "colorbar": {
              "outlinewidth": 0,
              "ticks": ""
             }
            },
            "type": "parcoords"
           }
          ],
          "pie": [
           {
            "automargin": true,
            "type": "pie"
           }
          ],
          "scatter": [
           {
            "fillpattern": {
             "fillmode": "overlay",
             "size": 10,
             "solidity": 0.2
            },
            "type": "scatter"
           }
          ],
          "scatter3d": [
           {
            "line": {
             "colorbar": {
              "outlinewidth": 0,
              "ticks": ""
             }
            },
            "marker": {
             "colorbar": {
              "outlinewidth": 0,
              "ticks": ""
             }
            },
            "type": "scatter3d"
           }
          ],
          "scattercarpet": [
           {
            "marker": {
             "colorbar": {
              "outlinewidth": 0,
              "ticks": ""
             }
            },
            "type": "scattercarpet"
           }
          ],
          "scattergeo": [
           {
            "marker": {
             "colorbar": {
              "outlinewidth": 0,
              "ticks": ""
             }
            },
            "type": "scattergeo"
           }
          ],
          "scattergl": [
           {
            "marker": {
             "colorbar": {
              "outlinewidth": 0,
              "ticks": ""
             }
            },
            "type": "scattergl"
           }
          ],
          "scattermap": [
           {
            "marker": {
             "colorbar": {
              "outlinewidth": 0,
              "ticks": ""
             }
            },
            "type": "scattermap"
           }
          ],
          "scattermapbox": [
           {
            "marker": {
             "colorbar": {
              "outlinewidth": 0,
              "ticks": ""
             }
            },
            "type": "scattermapbox"
           }
          ],
          "scatterpolar": [
           {
            "marker": {
             "colorbar": {
              "outlinewidth": 0,
              "ticks": ""
             }
            },
            "type": "scatterpolar"
           }
          ],
          "scatterpolargl": [
           {
            "marker": {
             "colorbar": {
              "outlinewidth": 0,
              "ticks": ""
             }
            },
            "type": "scatterpolargl"
           }
          ],
          "scatterternary": [
           {
            "marker": {
             "colorbar": {
              "outlinewidth": 0,
              "ticks": ""
             }
            },
            "type": "scatterternary"
           }
          ],
          "surface": [
           {
            "colorbar": {
             "outlinewidth": 0,
             "ticks": ""
            },
            "colorscale": [
             [
              0,
              "#0d0887"
             ],
             [
              0.1111111111111111,
              "#46039f"
             ],
             [
              0.2222222222222222,
              "#7201a8"
             ],
             [
              0.3333333333333333,
              "#9c179e"
             ],
             [
              0.4444444444444444,
              "#bd3786"
             ],
             [
              0.5555555555555556,
              "#d8576b"
             ],
             [
              0.6666666666666666,
              "#ed7953"
             ],
             [
              0.7777777777777778,
              "#fb9f3a"
             ],
             [
              0.8888888888888888,
              "#fdca26"
             ],
             [
              1,
              "#f0f921"
             ]
            ],
            "type": "surface"
           }
          ],
          "table": [
           {
            "cells": {
             "fill": {
              "color": "#EBF0F8"
             },
             "line": {
              "color": "white"
             }
            },
            "header": {
             "fill": {
              "color": "#C8D4E3"
             },
             "line": {
              "color": "white"
             }
            },
            "type": "table"
           }
          ]
         },
         "layout": {
          "annotationdefaults": {
           "arrowcolor": "#2a3f5f",
           "arrowhead": 0,
           "arrowwidth": 1
          },
          "autotypenumbers": "strict",
          "coloraxis": {
           "colorbar": {
            "outlinewidth": 0,
            "ticks": ""
           }
          },
          "colorscale": {
           "diverging": [
            [
             0,
             "#8e0152"
            ],
            [
             0.1,
             "#c51b7d"
            ],
            [
             0.2,
             "#de77ae"
            ],
            [
             0.3,
             "#f1b6da"
            ],
            [
             0.4,
             "#fde0ef"
            ],
            [
             0.5,
             "#f7f7f7"
            ],
            [
             0.6,
             "#e6f5d0"
            ],
            [
             0.7,
             "#b8e186"
            ],
            [
             0.8,
             "#7fbc41"
            ],
            [
             0.9,
             "#4d9221"
            ],
            [
             1,
             "#276419"
            ]
           ],
           "sequential": [
            [
             0,
             "#0d0887"
            ],
            [
             0.1111111111111111,
             "#46039f"
            ],
            [
             0.2222222222222222,
             "#7201a8"
            ],
            [
             0.3333333333333333,
             "#9c179e"
            ],
            [
             0.4444444444444444,
             "#bd3786"
            ],
            [
             0.5555555555555556,
             "#d8576b"
            ],
            [
             0.6666666666666666,
             "#ed7953"
            ],
            [
             0.7777777777777778,
             "#fb9f3a"
            ],
            [
             0.8888888888888888,
             "#fdca26"
            ],
            [
             1,
             "#f0f921"
            ]
           ],
           "sequentialminus": [
            [
             0,
             "#0d0887"
            ],
            [
             0.1111111111111111,
             "#46039f"
            ],
            [
             0.2222222222222222,
             "#7201a8"
            ],
            [
             0.3333333333333333,
             "#9c179e"
            ],
            [
             0.4444444444444444,
             "#bd3786"
            ],
            [
             0.5555555555555556,
             "#d8576b"
            ],
            [
             0.6666666666666666,
             "#ed7953"
            ],
            [
             0.7777777777777778,
             "#fb9f3a"
            ],
            [
             0.8888888888888888,
             "#fdca26"
            ],
            [
             1,
             "#f0f921"
            ]
           ]
          },
          "colorway": [
           "#636efa",
           "#EF553B",
           "#00cc96",
           "#ab63fa",
           "#FFA15A",
           "#19d3f3",
           "#FF6692",
           "#B6E880",
           "#FF97FF",
           "#FECB52"
          ],
          "font": {
           "color": "#2a3f5f"
          },
          "geo": {
           "bgcolor": "white",
           "lakecolor": "white",
           "landcolor": "#E5ECF6",
           "showlakes": true,
           "showland": true,
           "subunitcolor": "white"
          },
          "hoverlabel": {
           "align": "left"
          },
          "hovermode": "closest",
          "mapbox": {
           "style": "light"
          },
          "paper_bgcolor": "white",
          "plot_bgcolor": "#E5ECF6",
          "polar": {
           "angularaxis": {
            "gridcolor": "white",
            "linecolor": "white",
            "ticks": ""
           },
           "bgcolor": "#E5ECF6",
           "radialaxis": {
            "gridcolor": "white",
            "linecolor": "white",
            "ticks": ""
           }
          },
          "scene": {
           "xaxis": {
            "backgroundcolor": "#E5ECF6",
            "gridcolor": "white",
            "gridwidth": 2,
            "linecolor": "white",
            "showbackground": true,
            "ticks": "",
            "zerolinecolor": "white"
           },
           "yaxis": {
            "backgroundcolor": "#E5ECF6",
            "gridcolor": "white",
            "gridwidth": 2,
            "linecolor": "white",
            "showbackground": true,
            "ticks": "",
            "zerolinecolor": "white"
           },
           "zaxis": {
            "backgroundcolor": "#E5ECF6",
            "gridcolor": "white",
            "gridwidth": 2,
            "linecolor": "white",
            "showbackground": true,
            "ticks": "",
            "zerolinecolor": "white"
           }
          },
          "shapedefaults": {
           "line": {
            "color": "#2a3f5f"
           }
          },
          "ternary": {
           "aaxis": {
            "gridcolor": "white",
            "linecolor": "white",
            "ticks": ""
           },
           "baxis": {
            "gridcolor": "white",
            "linecolor": "white",
            "ticks": ""
           },
           "bgcolor": "#E5ECF6",
           "caxis": {
            "gridcolor": "white",
            "linecolor": "white",
            "ticks": ""
           }
          },
          "title": {
           "x": 0.05
          },
          "xaxis": {
           "automargin": true,
           "gridcolor": "white",
           "linecolor": "white",
           "ticks": "",
           "title": {
            "standoff": 15
           },
           "zerolinecolor": "white",
           "zerolinewidth": 2
          },
          "yaxis": {
           "automargin": true,
           "gridcolor": "white",
           "linecolor": "white",
           "ticks": "",
           "title": {
            "standoff": 15
           },
           "zerolinecolor": "white",
           "zerolinewidth": 2
          }
         }
        },
        "title": {
         "text": "График распределения категорий"
        },
        "xaxis": {
         "anchor": "y",
         "domain": [
          0,
          1
         ],
         "title": {
          "text": "Атрибут"
         }
        },
        "yaxis": {
         "anchor": "x",
         "domain": [
          0,
          1
         ],
         "title": {
          "text": "Количество"
         }
        }
       }
      }
     },
     "metadata": {},
     "output_type": "display_data"
    }
   ],
   "source": [
    "keys = [item for item in c.keys()]\n",
    "values = [item for item in c.values()]\n",
    "\n",
    "# Создание DataFrame (необязательно, но удобно для plotly)\n",
    "import pandas as pd\n",
    "df = pd.DataFrame({'Атрибут': keys, 'Количество': values})\n",
    "\n",
    "# Создание графика\n",
    "fig = px.bar(\n",
    "    df,\n",
    "    x='Атрибут',\n",
    "    y='Количество',\n",
    "    title=f'График распределения категорий',\n",
    "    color='Количество',  # Цветовая шкала\n",
    "    text='Количество'    # Отображение значений над столбцами\n",
    ")\n",
    "\n",
    "# Настройка визуализации\n",
    "fig.update_traces(texttemplate='%{text:.2s}', textposition='auto')\n",
    "fig.update_layout(showlegend=False)\n",
    "\n",
    "# Отображение графика\n",
    "fig.show()"
   ]
  }
 ],
 "metadata": {
  "kernelspec": {
   "display_name": ".venv",
   "language": "python",
   "name": "python3"
  },
  "language_info": {
   "codemirror_mode": {
    "name": "ipython",
    "version": 3
   },
   "file_extension": ".py",
   "mimetype": "text/x-python",
   "name": "python",
   "nbconvert_exporter": "python",
   "pygments_lexer": "ipython3",
   "version": "3.11.7"
  }
 },
 "nbformat": 4,
 "nbformat_minor": 2
}
